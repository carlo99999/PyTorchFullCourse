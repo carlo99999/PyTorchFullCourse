{
 "cells": [
  {
   "cell_type": "markdown",
   "metadata": {},
   "source": [
    "# **01: PyTorch WorkFlow**\n"
   ]
  },
  {
   "cell_type": "code",
   "execution_count": 14,
   "metadata": {},
   "outputs": [],
   "source": [
    "import torch\n",
    "import pandas as pd\n",
    "import numpy as np\n",
    "import matplotlib.pyplot as plt\n",
    "import torch.nn as nn\n",
    "import torch.optim as optim\n"
   ]
  },
  {
   "cell_type": "markdown",
   "metadata": {},
   "source": [
    "## **1: Data Preparation**\n",
    "\n",
    "Data can be almost anything in ML.\n",
    "\n",
    "ML is a game of two parts:\n",
    "1. Get data into a numerical representation\n",
    "2. Build a model to learn patterns in those numerical representation\n",
    "\n",
    "Let's build some *known* datas for Linear Regression"
   ]
  },
  {
   "cell_type": "code",
   "execution_count": 23,
   "metadata": {},
   "outputs": [
    {
     "data": {
      "text/plain": [
       "(tensor([[0.0000],\n",
       "         [0.0200],\n",
       "         [0.0400],\n",
       "         [0.0600],\n",
       "         [0.0800],\n",
       "         [0.1000],\n",
       "         [0.1200],\n",
       "         [0.1400],\n",
       "         [0.1600],\n",
       "         [0.1800]]),\n",
       " tensor([[0.3000],\n",
       "         [0.3140],\n",
       "         [0.3280],\n",
       "         [0.3420],\n",
       "         [0.3560],\n",
       "         [0.3700],\n",
       "         [0.3840],\n",
       "         [0.3980],\n",
       "         [0.4120],\n",
       "         [0.4260]]))"
      ]
     },
     "execution_count": 23,
     "metadata": {},
     "output_type": "execute_result"
    }
   ],
   "source": [
    "## Video 1\n",
    "\n",
    "weight = 0.7\n",
    "bias = 0.3\n",
    "\n",
    "# Create some data\n",
    "start=0\n",
    "end=1\n",
    "step=0.02\n",
    "X=torch.arange(start=start,end=end,step=step).unsqueeze(dim=1) # unsqueeze to make it a column vector basically adding a dimension to the tensor\n",
    "y=weight*X+bias\n",
    "X[0:10],y[0:10]"
   ]
  },
  {
   "cell_type": "code",
   "execution_count": 24,
   "metadata": {},
   "outputs": [],
   "source": [
    "## Video 2\n",
    "\n",
    "### Split the data into training and testing, one of the most important concepts in ML\n",
    "### We want to train the model on the training data and test it on the testing data\n",
    "### This is to avoid overfitting\n",
    "\n",
    "n_samples=X.shape[0]\n",
    "n_train=int(0.8*n_samples)\n",
    "n_test=n_samples-n_train\n",
    "X_train=X[0:n_train]\n",
    "y_train=y[0:n_train]\n",
    "X_test=X[n_train:]\n",
    "y_test=y[n_train:]\n",
    "\n"
   ]
  },
  {
   "cell_type": "code",
   "execution_count": 27,
   "metadata": {},
   "outputs": [
    {
     "data": {
      "image/png": "[encoded data removed]",
      "text/plain": [
       "<Figure size 1200x600 with 1 Axes>"
      ]
     },
     "metadata": {},
     "output_type": "display_data"
    }
   ],
   "source": [
    "## Video 3\n",
    "\n",
    "### Visualize the data\n",
    "\n",
    "def plot_predictions(train_data=X_train, train_labels=y_train, test_datas=X_test, test_labels=y_test, prediction=None):\n",
    "    \"\"\"\n",
    "    Plots the training data, testing data and the prediction of the model\n",
    "    \"\"\"\n",
    "    plt.figure(figsize=(12, 6))\n",
    "    plt.scatter(train_data, train_labels, c=\"b\", label=\"Training data\",s=4)\n",
    "    plt.scatter(test_datas, test_labels, c=\"g\", label=\"Testing data\",s=4)\n",
    "    if prediction is not None:\n",
    "        plt.plot(test_datas, prediction, c=\"r\", label=\"Prediction\")\n",
    "    \n",
    "    plt.show()\n",
    "    \n",
    "plot_predictions()"
   ]
  },
  {
   "cell_type": "code",
   "execution_count": null,
   "metadata": {},
   "outputs": [],
   "source": [
    "## Video 4\n",
    "\n",
    "### Build the model\n",
    "\n",
    "### Create a linear regression model class\n",
    "\n",
    "class LinearRegressionModel(nn.Module): # <- Almost all PyTorch models are subclasses of nn.Module\n",
    "    def __init__(self):\n",
    "        super.__init__()\n",
    "        self.weight=nn.Parameter(torch.randn(1,requires_grad=True,dtype=torch.float32))\n",
    "        self.bias=nn.Parameter(torch.randn(1,requires_grad=True,dtype=torch.float32))\n",
    "    \n",
    "    \n",
    "    def forward(self,X:torch.Tensor)->torch.Tensor: # <- This is the forward pass of the model\n",
    "        return self.weight*X+self.bias\n",
    "    "
   ]
  },
  {
   "cell_type": "code",
   "execution_count": null,
   "metadata": {},
   "outputs": [],
   "source": []
  },
  {
   "cell_type": "code",
   "execution_count": null,
   "metadata": {},
   "outputs": [],
   "source": []
  },
  {
   "cell_type": "code",
   "execution_count": null,
   "metadata": {},
   "outputs": [],
   "source": []
  },
  {
   "cell_type": "code",
   "execution_count": null,
   "metadata": {},
   "outputs": [],
   "source": []
  },
  {
   "cell_type": "code",
   "execution_count": null,
   "metadata": {},
   "outputs": [],
   "source": []
  },
  {
   "cell_type": "code",
   "execution_count": null,
   "metadata": {},
   "outputs": [],
   "source": []
  },
  {
   "cell_type": "markdown",
   "metadata": {},
   "source": [
    "## **2: Build The Model**"
   ]
  },
  {
   "cell_type": "markdown",
   "metadata": {},
   "source": [
    "## **3: Training**"
   ]
  },
  {
   "cell_type": "markdown",
   "metadata": {},
   "source": [
    "## **4: Making Predictions**"
   ]
  },
  {
   "cell_type": "markdown",
   "metadata": {},
   "source": [
    "## **5: Saving And Loading The Model**"
   ]
  },
  {
   "cell_type": "markdown",
   "metadata": {},
   "source": [
    "## **6: Putting it all together**"
   ]
  }
 ],
 "metadata": {
  "kernelspec": {
   "display_name": "Python 3",
   "language": "python",
   "name": "python3"
  },
  "language_info": {
   "codemirror_mode": {
    "name": "ipython",
    "version": 3
   },
   "file_extension": ".py",
   "mimetype": "text/x-python",
   "name": "python",
   "nbconvert_exporter": "python",
   "pygments_lexer": "ipython3",
   "version": "3.12.3"
  }
 },
 "nbformat": 4,
 "nbformat_minor": 2
}
